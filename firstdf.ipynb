{
 "cells": [
  {
   "cell_type": "code",
   "execution_count": 29,
   "outputs": [
    {
     "name": "stdout",
     "output_type": "stream",
     "text": [
      "        SongName Views Duration Likes Dislikes\n",
      "0          Tadow  274M     8:07  2.8M      65K\n",
      "1     Vibin' Out   22M     6:04  247K     5.2K\n",
      "2  Losing My way   52M     4:20  528K     7.6K\n",
      "3            TUI  781K     1:51   17K      123\n",
      "4    Ylang Ylang  4.5M     3:34  167K      775\n",
      "5        Blessed  553k     4:26  4.3K       57\n",
      "6  Is Magic Gone  1.7M     4:05   28K      474\n",
      "7        Skyline   21M     4:10  211K     3.3K\n",
      "8     Earthquake  780K     2:43   16K      195\n",
      "9      100 Roses  878K     4:09   17K      165\n"
     ]
    },
    {
     "data": {
      "text/plain": "        SongName Views Duration Likes Dislikes\n9      100 Roses  878K     4:09   17K      165\n5        Blessed  553k     4:26  4.3K       57\n8     Earthquake  780K     2:43   16K      195\n6  Is Magic Gone  1.7M     4:05   28K      474\n2  Losing My way   52M     4:20  528K     7.6K\n7        Skyline   21M     4:10  211K     3.3K\n3            TUI  781K     1:51   17K      123\n0          Tadow  274M     8:07  2.8M      65K\n1     Vibin' Out   22M     6:04  247K     5.2K\n4    Ylang Ylang  4.5M     3:34  167K      775",
      "text/html": "<div>\n<style scoped>\n    .dataframe tbody tr th:only-of-type {\n        vertical-align: middle;\n    }\n\n    .dataframe tbody tr th {\n        vertical-align: top;\n    }\n\n    .dataframe thead th {\n        text-align: right;\n    }\n</style>\n<table border=\"1\" class=\"dataframe\">\n  <thead>\n    <tr style=\"text-align: right;\">\n      <th></th>\n      <th>SongName</th>\n      <th>Views</th>\n      <th>Duration</th>\n      <th>Likes</th>\n      <th>Dislikes</th>\n    </tr>\n  </thead>\n  <tbody>\n    <tr>\n      <th>9</th>\n      <td>100 Roses</td>\n      <td>878K</td>\n      <td>4:09</td>\n      <td>17K</td>\n      <td>165</td>\n    </tr>\n    <tr>\n      <th>5</th>\n      <td>Blessed</td>\n      <td>553k</td>\n      <td>4:26</td>\n      <td>4.3K</td>\n      <td>57</td>\n    </tr>\n    <tr>\n      <th>8</th>\n      <td>Earthquake</td>\n      <td>780K</td>\n      <td>2:43</td>\n      <td>16K</td>\n      <td>195</td>\n    </tr>\n    <tr>\n      <th>6</th>\n      <td>Is Magic Gone</td>\n      <td>1.7M</td>\n      <td>4:05</td>\n      <td>28K</td>\n      <td>474</td>\n    </tr>\n    <tr>\n      <th>2</th>\n      <td>Losing My way</td>\n      <td>52M</td>\n      <td>4:20</td>\n      <td>528K</td>\n      <td>7.6K</td>\n    </tr>\n    <tr>\n      <th>7</th>\n      <td>Skyline</td>\n      <td>21M</td>\n      <td>4:10</td>\n      <td>211K</td>\n      <td>3.3K</td>\n    </tr>\n    <tr>\n      <th>3</th>\n      <td>TUI</td>\n      <td>781K</td>\n      <td>1:51</td>\n      <td>17K</td>\n      <td>123</td>\n    </tr>\n    <tr>\n      <th>0</th>\n      <td>Tadow</td>\n      <td>274M</td>\n      <td>8:07</td>\n      <td>2.8M</td>\n      <td>65K</td>\n    </tr>\n    <tr>\n      <th>1</th>\n      <td>Vibin' Out</td>\n      <td>22M</td>\n      <td>6:04</td>\n      <td>247K</td>\n      <td>5.2K</td>\n    </tr>\n    <tr>\n      <th>4</th>\n      <td>Ylang Ylang</td>\n      <td>4.5M</td>\n      <td>3:34</td>\n      <td>167K</td>\n      <td>775</td>\n    </tr>\n  </tbody>\n</table>\n</div>"
     },
     "execution_count": 29,
     "metadata": {},
     "output_type": "execute_result"
    }
   ],
   "source": [
    "import pandas as pd\n",
    "d = {\"SongName\": [\"Tadow\", \"Vibin' Out\", \"Losing My way\",\n",
    "                  \"TUI\",\"Ylang Ylang\",\n",
    "                  \"Blessed\",\"Is Magic Gone\",\"Skyline\",\n",
    "                  \"Earthquake\",\"100 Roses\",], \"Views\": [\"274M\",\"22M\",\n",
    "                   \"52M\",\"781K\",\n",
    "                   \"4.5M\",\"553k\",\"1.7M\",\"21M\",\"780K\",\n",
    "                    \"878K\",],\"Duration\": [\"8:07\", \"6:04\", \"4:20\",\"1:51\",\"3:34\",\"4:26\",\n",
    "                    \"4:05\",\"4:10\", \"2:43\",\"4:09\", ],\"Likes\":\n",
    "                    [\"2.8M\",\"247K\",\"528K\",\"17K\",\"167K\",\n",
    "                     \"4.3K\",\"28K\",\"211K\",\"16K\",\"17K\",],\"Dislikes\" :\n",
    "                    [\"65K\",\"5.2K\",\"7.6K\",\"123\",\"775\",\"57\",\n",
    "                     \"474\",\"3.3K\",\"195\",\"165\",]}\n",
    "df = pd.DataFrame(data = d)\n",
    "print(df)\n",
    "df.sort_values(by= \"SongName\")\n"
   ],
   "metadata": {
    "collapsed": false,
    "pycharm": {
     "name": "#%%\n"
    }
   }
  }
 ],
 "metadata": {
  "kernelspec": {
   "display_name": "Python 3",
   "language": "python",
   "name": "python3"
  },
  "language_info": {
   "codemirror_mode": {
    "name": "ipython",
    "version": 2
   },
   "file_extension": ".py",
   "mimetype": "text/x-python",
   "name": "python",
   "nbconvert_exporter": "python",
   "pygments_lexer": "ipython2",
   "version": "2.7.6"
  }
 },
 "nbformat": 4,
 "nbformat_minor": 0
}